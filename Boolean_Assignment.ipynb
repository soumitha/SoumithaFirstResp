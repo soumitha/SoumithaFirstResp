{
 "cells": [
  {
   "cell_type": "markdown",
   "id": "39f7b02d-27bf-458f-b6f6-18dd4682c1e7",
   "metadata": {},
   "source": [
    "Q. Declare a boolean value and store it in a variable.\r\n",
    "Check the type and print the id of the same."
   ]
  },
  {
   "cell_type": "code",
   "execution_count": 3,
   "id": "7857a165-2232-4b44-9c19-7f03eeaecefe",
   "metadata": {},
   "outputs": [
    {
     "name": "stdout",
     "output_type": "stream",
     "text": [
      "<class 'bool'>\n",
      "140729274812992\n"
     ]
    }
   ],
   "source": [
    "a= True\n",
    "print(type(a))\n",
    "print(id(a))"
   ]
  },
  {
   "cell_type": "markdown",
   "id": "00b664a4-995a-4196-a987-33ff79bd6332",
   "metadata": {},
   "source": [
    "Q. Take one boolean value between 0 - 256.\r\n",
    "Assign it to two different variables.\r\n",
    "Check the id of both the variables. It should come the same. Check why?"
   ]
  },
  {
   "cell_type": "code",
   "execution_count": 11,
   "id": "c6197856-c091-4a8a-b111-63a68768b8a9",
   "metadata": {},
   "outputs": [
    {
     "name": "stdout",
     "output_type": "stream",
     "text": [
      "140737312113416\n",
      "140737312113416\n",
      "True\n"
     ]
    }
   ],
   "source": [
    "a= 0\n",
    "b= 0\n",
    "print(id(a))\n",
    "print(id(b))\n",
    "print(id(a)==id(b))\n",
    "# because boolean value is applicable for Object reusability concept for the range 0 to 256"
   ]
  },
  {
   "cell_type": "markdown",
   "id": "35daffc9-f889-4c42-962f-d70ee20c80fc",
   "metadata": {},
   "source": [
    "Q. Arithmetic Operations on boolean data\n",
    "Take two different boolean values.\n",
    "Store them in two different variables.\n",
    "Do below operations on them:-\n",
    "Find sum of both values\n",
    "Find difference between them\n",
    "Find the product of both.\n",
    "Find value after dividing first value with second value\n",
    "Find the remainder after dividing first value with second value\n",
    "Find the quotient after dividing first value with second value\n",
    "Find the result of first value to the power of second value."
   ]
  },
  {
   "cell_type": "code",
   "execution_count": 25,
   "id": "93185682-f2c4-418e-9d9d-5c70f7dcdbf4",
   "metadata": {},
   "outputs": [
    {
     "name": "stdout",
     "output_type": "stream",
     "text": [
      "The sum of both numbers is 102\n",
      "The difference between them is 90\n",
      "The product of both numbers is 576\n",
      "The value after dividing first num with second number is 16.0\n",
      "The remainder after dividing first number with second number is 0\n",
      "The quotient after dividing first number with second number is 16\n",
      "The result of the first num to the power of the second number is  782757789696\n"
     ]
    }
   ],
   "source": [
    "bool1= 96\n",
    "bool2 = 6\n",
    "print(\"The sum of both numbers is\" ,bool1+bool2)\n",
    "print(\"The difference between them is\" ,bool1-bool2)\n",
    "print(\"The product of both numbers is\" ,bool1*bool2)\n",
    "print(\"The value after dividing first num with second number is\" ,bool1/bool2)\n",
    "print(\"The remainder after dividing first number with second number is\" ,bool1%bool2)\n",
    "print(\"The quotient after dividing first number with second number is\" ,bool1//bool2)\n",
    "print(\"The result of the first num to the power of the second number is \" ,bool1**bool2)"
   ]
  },
  {
   "cell_type": "markdown",
   "id": "8803a62e-da14-428d-99e5-fba9615a2687",
   "metadata": {},
   "source": [
    "Q. Comparison Operators on boolean values\n",
    "Take two different boolean values.\n",
    "Store them in two different variables.\n",
    "Do below operations on them:-\n",
    "Compare these two values with below operator:-\n",
    "Greater than, '>'\n",
    "less than, '<'\n",
    "Greater than or equal to, '>='\n",
    "Less than or equal to, '<='\n",
    "Observe their output(return type should be boolean)"
   ]
  },
  {
   "cell_type": "code",
   "execution_count": 22,
   "id": "01e53b0f-84ea-478a-89ca-bb118b9b728f",
   "metadata": {},
   "outputs": [
    {
     "name": "stdout",
     "output_type": "stream",
     "text": [
      "True\n",
      "False\n",
      "True\n",
      "False\n"
     ]
    }
   ],
   "source": [
    "bool1= True\n",
    "bool2 = False\n",
    "print(bool1 > bool2) # as bool1 is greater than bool2  ---> True\n",
    "print(bool1 < bool2) # as bool1 is not less than bool2  ---> False\n",
    "print(bool1 >= bool2) # as bool1 is greater than to bool2  ---> True\n",
    "print(bool1 <= bool2) # as bool1 is not less than or equal to bool2  ---> False"
   ]
  },
  {
   "cell_type": "markdown",
   "id": "21edd2aa-692a-45b8-b30c-4b1988af764e",
   "metadata": {},
   "source": [
    "Q. Equality Operator\r\n",
    "Take two different boolean values.\r\n",
    "Store them in two different variables.\r\n",
    "Equate them using equality operators (==, !=)\r\n",
    "Observe the output(return type should be boolean)"
   ]
  },
  {
   "cell_type": "code",
   "execution_count": 20,
   "id": "be59b121-fa7c-4e33-baf8-3581b12dfc22",
   "metadata": {},
   "outputs": [
    {
     "name": "stdout",
     "output_type": "stream",
     "text": [
      "False\n",
      "True\n"
     ]
    }
   ],
   "source": [
    "bool11= True\n",
    "bool21 = False\n",
    "print(bool11 == bool21) # not equal ---> false\n",
    "print(bool11 != bool21) # not equal ---> true"
   ]
  },
  {
   "cell_type": "markdown",
   "id": "1384f69f-3cce-45ea-a303-750f0965866c",
   "metadata": {},
   "source": [
    "Q. Logical operators\n",
    "Observe the output of below code\n",
    "Cross check the output manually\n",
    "print(True and True)\n",
    "#----------------------------------------->Output is True\n",
    "\n",
    "print(False and True)\n",
    "#----------------------------------------->Output is False\n",
    "print(True and False)\n",
    "#----------------------------------------->Output is False\n",
    "print(False and False)\n",
    "#----------------------------------------->Output is False\n",
    "print(True or True)\n",
    "#----------------------------------------->Output is True\n",
    "print(False or True)\n",
    "#----------------------------------------->Output is True\n",
    "print(True or False)\n",
    "#----------------------------------------->Output is True\n",
    "print(False or False)\n",
    "#----------------------------------------->Output is False\n",
    "print(not True)\n",
    "#----------------------------------------->Output is False\n",
    "print(not False)\n",
    "#----------------------------------------->Output is True"
   ]
  },
  {
   "cell_type": "code",
   "execution_count": 26,
   "id": "6d35ce83-cb22-4495-8f0e-28577426f4c8",
   "metadata": {},
   "outputs": [
    {
     "name": "stdout",
     "output_type": "stream",
     "text": [
      "True\n",
      "False\n",
      "False\n",
      "False\n",
      "True\n",
      "True\n",
      "True\n",
      "False\n",
      "False\n",
      "True\n"
     ]
    }
   ],
   "source": [
    "print(True and True)      #  if both values are true for 'and' operator  then the Output will be True\n",
    "print(False and True)     # if any of the value is false for 'and' operator then the output will be false\n",
    "print(True and False)     # if any of the value is false for 'and' operator then the output will be false\n",
    "print(False and False)    #  if both values are false for 'and' operator  then the Output will be false\n",
    "print(True or True)       #  if both values are true for 'or' operator  then the Output will be True\n",
    "print(False or True)      # if any of the value is false for 'or' operator then the output will be True\n",
    "print(True or False)      # if any of the value is false for 'or' operator then the output will be True\n",
    "print(False or False)     #  if both values are false for 'and' operator  then the Output will be false\n",
    "print(not True)           # not of True is False\n",
    "print(not False)          # not of False is True"
   ]
  },
  {
   "cell_type": "markdown",
   "id": "4f9a7fa2-cb8f-434d-af63-ff5e981c4ead",
   "metadata": {},
   "source": [
    "Q. Bitwise Operators\r\n",
    "Do below operations on the values provided below:-\r\n",
    "Bitwise and(&) --------------> True, True -------> Output is True\r\n",
    "Bitwise or(|) --------------> True, False -------> Output is True\r\n",
    "Bitwise(^) --------------> True, False -------> Output is True\r\n",
    "Bitwise negation(~) ---------> True -------> Output is -2\r\n",
    "Bitwise left shift ---------> True,2 -------> Output is 4\r\n",
    "Bitwise right shift ---------> True,2 -------> Output is 0\r\n",
    "Cross check the output manually"
   ]
  },
  {
   "cell_type": "code",
   "execution_count": 28,
   "id": "0c4983d6-53ed-44ed-af5b-759c783d64bc",
   "metadata": {},
   "outputs": [
    {
     "name": "stdout",
     "output_type": "stream",
     "text": [
      "True\n",
      "True\n",
      "True\n",
      "True\n",
      "4\n",
      "0\n"
     ]
    }
   ],
   "source": [
    "#Bitwise and(&) \n",
    "print(True & True ) # -------> Output is True ( 1 & 1  --> 1)\n",
    "#Bitwise or(|) \n",
    "print(True | False ) # -------> Output is True (0 | 1  --->1)\n",
    "#Bitwise xor (^) \n",
    "print(True ^ False ) # -------> Output is True ( 1 ^ 0 ---->1)\n",
    "#Bitwise negation(~) \n",
    "print(True )         # -------> Output is -2 ( True=1 , -(1+1)=-2)\n",
    "#Bitwise left shift << \n",
    "print(True << 2 ) # -------> Output is 4 ( True=1, 1*(2**2) =4)\n",
    "#Bitwise right shift >>\n",
    "print(True >> 2 ) # -------> Output is 0 ( True=1, 1//(2**2) =0)"
   ]
  },
  {
   "cell_type": "markdown",
   "id": "0acbc6cb-bcb4-4860-affd-6d11724137b0",
   "metadata": {},
   "source": [
    "Q. What is the output of expression inside the print statement. Cross\n",
    "check before running the program.\n",
    "a = True\n",
    "b = True\n",
    "print(a is b) #True or False? #\n",
    "\n",
    "print(a is not b) #True or False?\n",
    "a = False\n",
    "b = False\n",
    "print(a is b) #True or False?\n",
    "print(a is not b) #True or False?"
   ]
  },
  {
   "cell_type": "code",
   "execution_count": 29,
   "id": "3733c20f-92e9-478d-a6f2-04ba5f9201cd",
   "metadata": {},
   "outputs": [
    {
     "name": "stdout",
     "output_type": "stream",
     "text": [
      "True\n",
      "False\n",
      "True\n",
      "False\n"
     ]
    }
   ],
   "source": [
    "a = True\n",
    "b = True\n",
    "print(a is b)  # True\n",
    "\n",
    "print(a is not b) # False\n",
    "a = False\n",
    "b = False\n",
    "print(a is b) #True \n",
    "print(a is not b) #False"
   ]
  },
  {
   "cell_type": "markdown",
   "id": "13552fdb-f132-4f44-b425-e93969d7c6af",
   "metadata": {},
   "source": [
    "Q. Membership operation\n",
    "in, not in are two membership operators and it returns boolean value\n",
    "print(True in [10,10.20,10+20j,'Python', True])\n",
    "print(False in (10,10.20,10+20j,'Python', False))\n",
    "print(True in {1,2,3, True})\n",
    "print(True in {True:100, False:200, True:300})\n",
    "print(False in {True:100, False:200, True:300})"
   ]
  },
  {
   "cell_type": "code",
   "execution_count": 30,
   "id": "abd01e73-0ed0-476d-ac7a-3c011869dbc6",
   "metadata": {},
   "outputs": [
    {
     "name": "stdout",
     "output_type": "stream",
     "text": [
      "True\n",
      "True\n",
      "True\n",
      "True\n",
      "True\n"
     ]
    }
   ],
   "source": [
    "print(True in [10,10.20,10+20j,'Python', True])\n",
    "print(False in (10,10.20,10+20j,'Python', False))\n",
    "print(True in {1,2,3, True})\n",
    "print(True in {True:100, False:200, True:300})\n",
    "print(False in {True:100, False:200, True:300})"
   ]
  },
  {
   "cell_type": "code",
   "execution_count": null,
   "id": "949db97b-b24d-4bd1-a9a1-8fe35349c7cf",
   "metadata": {},
   "outputs": [],
   "source": []
  }
 ],
 "metadata": {
  "kernelspec": {
   "display_name": "Python 3 (ipykernel)",
   "language": "python",
   "name": "python3"
  },
  "language_info": {
   "codemirror_mode": {
    "name": "ipython",
    "version": 3
   },
   "file_extension": ".py",
   "mimetype": "text/x-python",
   "name": "python",
   "nbconvert_exporter": "python",
   "pygments_lexer": "ipython3",
   "version": "3.11.7"
  }
 },
 "nbformat": 4,
 "nbformat_minor": 5
}
